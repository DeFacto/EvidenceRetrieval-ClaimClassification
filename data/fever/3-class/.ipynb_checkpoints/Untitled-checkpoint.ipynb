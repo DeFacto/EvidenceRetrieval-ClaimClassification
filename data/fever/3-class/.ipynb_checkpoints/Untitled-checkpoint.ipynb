{
 "cells": [
  {
   "cell_type": "code",
   "execution_count": 2,
   "metadata": {},
   "outputs": [],
   "source": [
    "import pandas as pd\n",
    "import pickle\n",
    "import numpy as np"
   ]
  },
  {
   "cell_type": "code",
   "execution_count": 22,
   "metadata": {},
   "outputs": [
    {
     "data": {
      "text/html": [
       "<div>\n",
       "<style scoped>\n",
       "    .dataframe tbody tr th:only-of-type {\n",
       "        vertical-align: middle;\n",
       "    }\n",
       "\n",
       "    .dataframe tbody tr th {\n",
       "        vertical-align: top;\n",
       "    }\n",
       "\n",
       "    .dataframe thead th {\n",
       "        text-align: right;\n",
       "    }\n",
       "</style>\n",
       "<table border=\"1\" class=\"dataframe\">\n",
       "  <thead>\n",
       "    <tr style=\"text-align: right;\">\n",
       "      <th></th>\n",
       "      <th>0</th>\n",
       "      <th>1</th>\n",
       "      <th>2</th>\n",
       "      <th>3</th>\n",
       "      <th>4</th>\n",
       "      <th>5</th>\n",
       "      <th>6</th>\n",
       "      <th>7</th>\n",
       "      <th>8</th>\n",
       "      <th>9</th>\n",
       "      <th>...</th>\n",
       "      <th>8402</th>\n",
       "      <th>8403</th>\n",
       "      <th>8404</th>\n",
       "      <th>8405</th>\n",
       "      <th>8406</th>\n",
       "      <th>8407</th>\n",
       "      <th>8408</th>\n",
       "      <th>8409</th>\n",
       "      <th>8410</th>\n",
       "      <th>8411</th>\n",
       "    </tr>\n",
       "  </thead>\n",
       "  <tbody>\n",
       "    <tr>\n",
       "      <th>0</th>\n",
       "      <td>{'claim': 'The Black Dahlia was only written b...</td>\n",
       "      <td>{'claim': 'Dennis Hopper did not act in an Ame...</td>\n",
       "      <td>{'claim': 'Bal Gangadhar Tilak was a judge.', ...</td>\n",
       "      <td>{'claim': 'Luke Evans took a five-year acting ...</td>\n",
       "      <td>{'claim': 'Colin Quinn's middle name is Edward...</td>\n",
       "      <td>{'claim': 'Spain shares a border with Morocco....</td>\n",
       "      <td>{'claim': 'Fernando Alonso was born in Cordoba...</td>\n",
       "      <td>{'claim': 'Manchester City F.C. was purchased ...</td>\n",
       "      <td>{'claim': 'Quinoa is not grown as a grain crop...</td>\n",
       "      <td>{'claim': 'Evan Rachel Wood avoided to appear ...</td>\n",
       "      <td>...</td>\n",
       "      <td>{'claim': 'Hilary Swank was born in 1974.', 't...</td>\n",
       "      <td>{'claim': 'Whitey Bulger was sentenced by Atto...</td>\n",
       "      <td>{'claim': 'John Cusack is an actor.', 'triples...</td>\n",
       "      <td>{'claim': 'Azerbaijan has a high degree of lit...</td>\n",
       "      <td>{'claim': 'Avatar: The Last Airbender is a tel...</td>\n",
       "      <td>{'claim': 'Jack Black is an American actor tha...</td>\n",
       "      <td>{'claim': 'Michael Jackson was born in 2009.',...</td>\n",
       "      <td>{'claim': 'The Taj Mahal attracts 7-8 million ...</td>\n",
       "      <td>{'claim': 'The Carmichael Show's seasons have ...</td>\n",
       "      <td>{'claim': 'Issur Danielovitch was the name giv...</td>\n",
       "    </tr>\n",
       "  </tbody>\n",
       "</table>\n",
       "<p>1 rows × 8412 columns</p>\n",
       "</div>"
      ],
      "text/plain": [
       "                                                0     \\\n",
       "0  {'claim': 'The Black Dahlia was only written b...   \n",
       "\n",
       "                                                1     \\\n",
       "0  {'claim': 'Dennis Hopper did not act in an Ame...   \n",
       "\n",
       "                                                2     \\\n",
       "0  {'claim': 'Bal Gangadhar Tilak was a judge.', ...   \n",
       "\n",
       "                                                3     \\\n",
       "0  {'claim': 'Luke Evans took a five-year acting ...   \n",
       "\n",
       "                                                4     \\\n",
       "0  {'claim': 'Colin Quinn's middle name is Edward...   \n",
       "\n",
       "                                                5     \\\n",
       "0  {'claim': 'Spain shares a border with Morocco....   \n",
       "\n",
       "                                                6     \\\n",
       "0  {'claim': 'Fernando Alonso was born in Cordoba...   \n",
       "\n",
       "                                                7     \\\n",
       "0  {'claim': 'Manchester City F.C. was purchased ...   \n",
       "\n",
       "                                                8     \\\n",
       "0  {'claim': 'Quinoa is not grown as a grain crop...   \n",
       "\n",
       "                                                9     \\\n",
       "0  {'claim': 'Evan Rachel Wood avoided to appear ...   \n",
       "\n",
       "                         ...                          \\\n",
       "0                        ...                           \n",
       "\n",
       "                                                8402  \\\n",
       "0  {'claim': 'Hilary Swank was born in 1974.', 't...   \n",
       "\n",
       "                                                8403  \\\n",
       "0  {'claim': 'Whitey Bulger was sentenced by Atto...   \n",
       "\n",
       "                                                8404  \\\n",
       "0  {'claim': 'John Cusack is an actor.', 'triples...   \n",
       "\n",
       "                                                8405  \\\n",
       "0  {'claim': 'Azerbaijan has a high degree of lit...   \n",
       "\n",
       "                                                8406  \\\n",
       "0  {'claim': 'Avatar: The Last Airbender is a tel...   \n",
       "\n",
       "                                                8407  \\\n",
       "0  {'claim': 'Jack Black is an American actor tha...   \n",
       "\n",
       "                                                8408  \\\n",
       "0  {'claim': 'Michael Jackson was born in 2009.',...   \n",
       "\n",
       "                                                8409  \\\n",
       "0  {'claim': 'The Taj Mahal attracts 7-8 million ...   \n",
       "\n",
       "                                                8410  \\\n",
       "0  {'claim': 'The Carmichael Show's seasons have ...   \n",
       "\n",
       "                                                8411  \n",
       "0  {'claim': 'Issur Danielovitch was the name giv...  \n",
       "\n",
       "[1 rows x 8412 columns]"
      ]
     },
     "execution_count": 22,
     "metadata": {},
     "output_type": "execute_result"
    }
   ],
   "source": [
    "data = pd.read_json(\"fever_3.json\", lines=True)\n",
    "data"
   ]
  },
  {
   "cell_type": "code",
   "execution_count": 23,
   "metadata": {},
   "outputs": [],
   "source": [
    "data.to_json(\"temp.json\")"
   ]
  },
  {
   "cell_type": "code",
   "execution_count": 24,
   "metadata": {},
   "outputs": [],
   "source": [
    "train = pickle.load(open(\"train_fever_3\", \"rb\"))\n"
   ]
  },
  {
   "cell_type": "code",
   "execution_count": 17,
   "metadata": {},
   "outputs": [],
   "source": [
    "# train.to_csv(\"train_fever_3.csv\")"
   ]
  },
  {
   "cell_type": "code",
   "execution_count": 25,
   "metadata": {},
   "outputs": [],
   "source": [
    "train.to_json(\"train_fever_3.json\")"
   ]
  },
  {
   "cell_type": "code",
   "execution_count": null,
   "metadata": {},
   "outputs": [],
   "source": []
  }
 ],
 "metadata": {
  "kernelspec": {
   "display_name": "Python 3",
   "language": "python",
   "name": "python3"
  },
  "language_info": {
   "codemirror_mode": {
    "name": "ipython",
    "version": 3
   },
   "file_extension": ".py",
   "mimetype": "text/x-python",
   "name": "python",
   "nbconvert_exporter": "python",
   "pygments_lexer": "ipython3",
   "version": "3.6.7"
  }
 },
 "nbformat": 4,
 "nbformat_minor": 2
}
